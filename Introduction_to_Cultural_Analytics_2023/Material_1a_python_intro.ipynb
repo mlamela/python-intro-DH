{
 "cells": [
  {
   "cell_type": "markdown",
   "id": "5dfab8e1-97dc-4a02-bc82-e309fa283b95",
   "metadata": {},
   "source": [
    "## Introduction to Cultural Analytics (ht-2023)\n",
    "\n",
    "Matti La Mela, matti.lamela@abm.uu.se\n",
    "\n",
    "### Lab material 1a: Introduction to Python basics\n",
    "\n",
    "This Notebook introduces us to basic programming concepts in Python such as variables, operations, iterations, and functions. The concepts would be similar in other programming languages too.\n",
    "<br>\n",
    "<br>\n",
    "The reference readings for this learning material and week 1 is:\n",
    "\n",
    "**o \"Python Basics\" in Walsh, M. (2021). Introduction to Cultural Analytics and Python. https://melaniewalsh.github.io/Intro-Cultural-Analytics/welcome.html**\n",
    "\n",
    "Other work about Python programming basics that you can consult are:\n",
    "\n",
    "o Chapters 1-3, 5, 7-8 and 10 in Downey, A. B. (2015). Think Python: How to Think Like a Computer Scientist, 2nd ed., Needham, https://greenteapress.com/wp/think-python-2e/\n",
    "\n",
    "o Chapter 1 (with a focus on text only) in Bird, S., Klein, E. and Loper, E. (2019). Natural Language Processing with Python (NLTK 3.0), https://www.nltk.org/book/\n",
    "\n",
    "o Mattingly, W. J. B. Introduction to Python for Humanists (http://python-textbook.pythonhumanities.com/intro.html), and youtube tutorials: https://www.youtube.com/@python-programming (Textbook from Routledge (2013), \"Introduction to Python for Humanists\")\n",
    "\n",
    "<br>"
   ]
  },
  {
   "cell_type": "markdown",
   "id": "5954b3ed-36f0-43ce-bf17-0bbc63e416ec",
   "metadata": {},
   "source": [
    "### Code cell:\n",
    "\n",
    "When running the code cell you will get the output below the cell. You are free to modify the code cell yourself. If the code is not correct, for example\n",
    "that the syntax is not correct, you will get an error message below the cell.\n",
    "\n",
    "New cells, which can then be defined as Code or Markdown can be created by clicking the plus symbol. Scissors are used for cutting. Shift-enter or the play symbol runs the cell.\n",
    "\n",
    "We should run the cells in the order they are entered here, as some of the variables or operations we do in the cells are required for the cells below to work. The order of running the cells is giving in the brackets next to the cell. Jupyter Notebook stores the variables we have created in the previous cells."
   ]
  },
  {
   "cell_type": "code",
   "execution_count": null,
   "id": "40f95d63-6ac8-48e9-ac52-9052543369ec",
   "metadata": {
    "tags": []
   },
   "outputs": [],
   "source": [
    "# This is a code cell. Hashtag is used to write comments that are not executed, but which describe the code. \n",
    "# The code is executed from the beginning to the end.\n",
    "\n",
    "# We use the print() function to print in the output section below the cell.\n",
    "\n",
    "print(2)\n",
    "\n",
    "# The program first executes what is inside the () of our function\n",
    "\n",
    "print(5 + 5)"
   ]
  },
  {
   "cell_type": "code",
   "execution_count": null,
   "id": "16785632-065c-4c87-8607-e7f543329ddc",
   "metadata": {},
   "outputs": [],
   "source": [
    "# When we print a string, we need to have it between quotation marks \"\".\n",
    "\n",
    "print (\"Hello world\")\n",
    "\n",
    "# We can also combine strings together with +\n",
    "\n",
    "print (\"Hello\" + \" \" + \"world\" + \" \" + \"!!!\")\n"
   ]
  },
  {
   "cell_type": "markdown",
   "id": "46b580df-708f-4861-988c-6fc2d5595f51",
   "metadata": {
    "tags": []
   },
   "source": [
    "## 1. Variables\n",
    "\n",
    "Variables are used to store information (values) which we calculate and process in our code. The variables have different data types depending on what values we assign to them, eg. numeric value or strings. The variable is created and is given a type (integer, string) when we assign a value to it for the first time.\n",
    "\n",
    "We can make up the variable names by ourselves, but they should be precise, meaningful, and concise to keep our code understandable for us and others. The variable names cannot start with a number, and cannot include whitespace (use underscore). It is not possible to give names that are used already in the programming syntax or are defined already, eg. \"not\" or \"if\" are not valid variable names."
   ]
  },
  {
   "cell_type": "code",
   "execution_count": 1,
   "id": "a77996d0-41da-4b56-9b47-629c308fb2ee",
   "metadata": {},
   "outputs": [
    {
     "name": "stdout",
     "output_type": "stream",
     "text": [
      "12\n",
      "4\n"
     ]
    }
   ],
   "source": [
    "# Let's define two variables that have the numeric values of tables and chairs in a classroom\n",
    "\n",
    "tables = 4\n",
    "chairs = 12\n",
    "\n",
    "print(chairs)\n",
    "print(tables)"
   ]
  },
  {
   "cell_type": "code",
   "execution_count": null,
   "id": "7f762fe6-2370-4aba-9437-02e9223f33b6",
   "metadata": {
    "tags": []
   },
   "outputs": [],
   "source": [
    "# Jupyter notebooks print the variable (or other value) also without print(), but only the value of the last variable that you want to print.\n",
    "# This works well when for example examining the code.\n",
    "\n",
    "chairs\n",
    "\n",
    "# tables"
   ]
  },
  {
   "cell_type": "code",
   "execution_count": null,
   "id": "8acbd6dc-b497-4bb2-a746-355653293a14",
   "metadata": {},
   "outputs": [],
   "source": [
    "# We create here three variables by assigning values to them.\n",
    "\n",
    "book_title = \"Introduction to Cultural Analytics & Python\"\n",
    "book_year = 2021\n",
    "book_rating = 9.3\n",
    "book_is_available = True\n"
   ]
  },
  {
   "cell_type": "code",
   "execution_count": null,
   "id": "572847e6-b1f6-413b-bac0-9b902ae9777a",
   "metadata": {},
   "outputs": [],
   "source": [
    "# Defining the variables does not give us any output. The values are assigned and stored in the variables until we close the notebook\n",
    "# or reset the Kernel (the program that runs our code).\n",
    "\n",
    "# We print the string \"The book to be analysed is: \" and add there the value of the variable book_title (which is also a string).\n",
    "\n",
    "print(\"The film to be analysed is: \" + book_title)\n",
    "\n",
    "# When printing the string \"The book was published in: \" and the integer \"book_year\", we get an error unless we convert the numerical value\n",
    "# into a string. We cannot add together a string data type and a numerical data type. We convert the numerical value with str() function.\n",
    "\n",
    "print(\"The book was published in: \" + str(book_year))\n",
    "\n",
    "# Another nice way to print strings and number values is to use the so-called \"f-strings\".\n",
    "\n",
    "# We can also use \"f-strings\" which are formatted string literals. This enables to combine literals and variables easily together into strings,\n",
    "# but has also options for formatting e.g. defining how the printed output is aligned. See for example: https://fstring.help/cheat/\n",
    "\n",
    "# We have the letter f before the \"\", and refer to variables with {}.\n",
    "\n",
    "print(f\"The book {book_title} was published in {book_year}\")\n",
    "\n"
   ]
  },
  {
   "cell_type": "code",
   "execution_count": null,
   "id": "79f364f7-f423-4497-912c-9898cf26a5a5",
   "metadata": {
    "tags": []
   },
   "outputs": [],
   "source": [
    "# Booleans are data types with two values: True or False, thus they are binaric (0 or 1).\n",
    "\n",
    "# We use here the if statement to see if our variable \"book_is_available\" is True or False:\n",
    "\n",
    "if (book_is_available):\n",
    "    print(\"The book is available at the library\")\n",
    "else:\n",
    "    print(\"The book is not available at the library\")\n",
    "\n"
   ]
  },
  {
   "cell_type": "markdown",
   "id": "bd2f1119-b68f-4aec-b957-2a68cccaff61",
   "metadata": {},
   "source": [
    "### These variables are of four data types:\n",
    "\n",
    "**o book_title** was created as a string variable. This is done by typing the string of characters between the quotation marks (\"\") (one character, many characters, words/tokens, the \"space\" is a character for the computer).\n",
    "\n",
    "**o book_year** variable is an integer (int). Integers are whole-valued numbers and a very commonly used variable type.\n",
    "\n",
    "**o book_rating** is a floating-point (float) variable, as it allows decimal points.\n",
    "\n",
    "**o book_is_available** is a boolean variable (bool). Booleans are binaric data types and they are either True or False (thus 0 or 1).\n"
   ]
  },
  {
   "cell_type": "code",
   "execution_count": null,
   "id": "a7278db8-c04f-4198-859a-a8ce962eb607",
   "metadata": {},
   "outputs": [],
   "source": [
    "# We are able to see the variable type with the function type().\n",
    "\n",
    "# You can change the variable book_year to book_title, and see what types the other variables are.\n",
    "\n",
    "variable_type = type(book_year)\n",
    "\n",
    "print(variable_type)"
   ]
  },
  {
   "cell_type": "code",
   "execution_count": null,
   "id": "40d4d440-8a7b-4d2c-b133-deb1977209f6",
   "metadata": {},
   "outputs": [],
   "source": [
    "# Strings are \"sequences of characters\" thus not words per se.\n",
    "\n",
    "# We are able to work with the individual characters with brackets, which expresses the index. There is no data type for individual characters,\n",
    "\n",
    "# but a character is a string that has the length of one character.\n",
    "\n",
    "print(book_title)\n",
    "\n",
    "# What is the first character? The indexes start from offset 0!\n",
    "\n",
    "print(book_title[0])\n",
    "\n"
   ]
  },
  {
   "cell_type": "code",
   "execution_count": null,
   "id": "ef6931d9-d75f-4e58-968e-a77047ba5eb3",
   "metadata": {},
   "outputs": [],
   "source": [
    "# We can also pick a slice of the string by typing \"from:to\" inside the brackets. NB, \"from\" starts from 0, but the \"to\" needs to be\n",
    "# the order number following the character which we want to include to the range.\n",
    "\n",
    "# Thus, the if we want a range from the first to the fifth char, we start from index 0.\n",
    "# The fifth character is index number 4, but as we want to include it, we type 4+1 = 5. Index 5 points to the beginning of the sixth char,\n",
    "# but does not include it. See also: our Think Python book, ch. 8.4.\n",
    "\n",
    "print(book_title[0:5])\n",
    "\n"
   ]
  },
  {
   "cell_type": "code",
   "execution_count": null,
   "id": "93efba88-bef1-409b-b89a-1da6c89bc082",
   "metadata": {},
   "outputs": [],
   "source": [
    "# We can use another variable as the index:\n",
    "\n",
    "end = 2\n",
    "\n",
    "print(book_title[0:end])\n",
    "\n",
    "# If we want to start from the beginning of the string, we type simply [:6] without the 0. Which is even more useful,\n",
    "# it works also the other way round, so [4:] takes us from the fifth character until the end of the string.\n",
    "\n",
    "print(book_title[4:])\n",
    "\n",
    "# Another tip is to use minus values in the index. -3 would take us to the third last character of our string.\n",
    "\n",
    "print(book_title[-3:])"
   ]
  },
  {
   "cell_type": "markdown",
   "id": "4505ffdc-85cf-4b90-bad4-661634356d9e",
   "metadata": {},
   "source": [
    "### 1.1 Operators and variables\n",
    "\n",
    "Arithmetic operators are used to do calculations with the variables: + (addition), - (substraction), * (multiplication), / (division). The operators work with number variables, + and * also with with strings.\n",
    "\n",
    "See for example: https://melaniewalsh.github.io/Intro-Cultural-Analytics/02-Python/05-Data-Types.html\n",
    "\n",
    "http://python-textbook.pythonhumanities.com/01_intro/01_02-02_data.html\n",
    "\n",
    "We will talk later about relational operators (e.g. \"greater than\" > ) and logical operators (and, or). These help us to compare two variables, and they return True or False depending on the condition."
   ]
  },
  {
   "cell_type": "code",
   "execution_count": null,
   "id": "75963189-c860-4a8c-bde4-5e67c690aafc",
   "metadata": {},
   "outputs": [],
   "source": [
    "# We have the number of words in a book assigned to book_1_words and book_2_words. We want to calculate the sum and average of the pages.\n",
    "\n",
    "book_1_words = 291\n",
    "book_2_words = 496\n",
    "\n",
    "book_all_words = book_1_words + book_2_words\n",
    "\n",
    "print(\"The books contain \" + str(book_all_words) + \" words\")\n",
    "\n",
    "# The average is the sum divided by number of books.\n",
    "\n",
    "book_average_words = book_all_words / 2\n",
    "\n",
    "print(\"The average word count is \" + str(book_average_words))\n"
   ]
  },
  {
   "cell_type": "code",
   "execution_count": null,
   "id": "d8d3f618-a44b-428a-97e8-f7bd242834ad",
   "metadata": {},
   "outputs": [],
   "source": [
    "# We assign another value to book_1_words\n",
    "\n",
    "book_1_words = 100\n",
    "\n",
    "# Note that the variables are not dynamic (\"book_all_words\") but rather containers, thus, we would need to redo the calculation above\n",
    "# and assign the value again to \"book_all_words\".\n",
    "\n",
    "print(book_all_words)\n",
    "\n",
    "book_all_words = book_1_words + book_2_words\n",
    "\n",
    "print(book_all_words)\n"
   ]
  },
  {
   "cell_type": "code",
   "execution_count": null,
   "id": "a64c0a94-a621-411f-b36e-38bcf40774af",
   "metadata": {
    "tags": []
   },
   "outputs": [],
   "source": [
    "# Example with a string variable:\n",
    "\n",
    "print(5 * book_title)"
   ]
  },
  {
   "cell_type": "markdown",
   "id": "b26e5696-e100-4b32-8f4d-1aee19c9899f",
   "metadata": {},
   "source": [
    "### 1.2 Lists\n",
    "\n",
    "It is a bit cumbersome to create a variable for every book, e.g. if we have 200 books in our dataset. During next labs we learn to use\n",
    "Pandas dataframes (cf. a spreadsheet).\n",
    "\n",
    "Another data type that are useful for storing several values are lists. A list contains other data types in a sequential order (like strings contain characters in a sequential order). Lists are useful in data processing, for example, we can tokenize a sentence into list of words and then work on every element in the list.\n"
   ]
  },
  {
   "cell_type": "code",
   "execution_count": null,
   "id": "dfe2450e-f1ab-456e-b822-f876ac9914dc",
   "metadata": {
    "tags": []
   },
   "outputs": [],
   "source": [
    "# Here is an example of an list of integers. A list is created by using brackets, and the values in the list are separated with commas.\n",
    "\n",
    "observed_values = [14, 15, 16, 20, 12]\n",
    "\n",
    "print(observed_values)\n",
    "\n",
    "print(\"We have \" + str(len(observed_values)) + \" in our list of observed values\")\n",
    "\n",
    "# or as a f-string:\n",
    "\n",
    "# print(f\"We have {len(observed_values)} in our list of observed values\")\n"
   ]
  },
  {
   "cell_type": "code",
   "execution_count": null,
   "id": "0d716dc2-9981-4e30-b27d-5ddaa3b79550",
   "metadata": {},
   "outputs": [],
   "source": [
    "# Similar to strings (and the characters of the string), we can use the index to point at certain list value.\n",
    "\n",
    "print(\"The first value is : \" + str(observed_values[0]))\n"
   ]
  },
  {
   "cell_type": "code",
   "execution_count": null,
   "id": "fc444571-eb02-45a7-a474-0713a32c352e",
   "metadata": {},
   "outputs": [],
   "source": [
    "# Here is a list of strings:\n",
    "\n",
    "book_titles = [\"Introduction to Cultural Analytics & Python\", \"Distant Horizons\", \"Data Feminism\"]\n",
    "\n",
    "print(book_titles)\n",
    "\n",
    "# len() function gives us the length of a string (how many characters), but also the length of a list (how many variables are we storing).\n",
    "\n",
    "print(\"The amount of books on our list: \" + str(len(book_titles)))\n"
   ]
  },
  {
   "cell_type": "code",
   "execution_count": null,
   "id": "ecb9c9ac-bb04-4c1b-97a0-f705100278dd",
   "metadata": {
    "tags": []
   },
   "outputs": [],
   "source": [
    "# It is possible to create a list of lists (a nested list), but at this point it might make sense to start using\n",
    "# a more suitable and powerful solution like the Pandas data frames.\n",
    "\n",
    "book_information = [[\"Title1\", 2012], [\"Title2\", 2014]]\n",
    "\n",
    "print(\"The title of our first book is: \" + book_information[0][0])\n",
    "print(\"The publication year of our first book is: \" + str(book_information[0][1]))"
   ]
  },
  {
   "cell_type": "code",
   "execution_count": null,
   "id": "0eb082fb-7efa-40af-af9a-a810a4ba2877",
   "metadata": {},
   "outputs": [],
   "source": [
    "# We can add and remove entries from a list with list methods.\n",
    "\n",
    "# .pop() removes the last element on the list. .remove(\"NAME\") removes the string that has the value \"NAME\" from the list. We can use also the index with .remove.\n",
    "\n",
    "# So for removing the last entry, we could write either:\n",
    "\n",
    "book_titles.pop()\n",
    "\n",
    "# book_titles.remove(book_titles[-1])\n",
    "\n",
    "# book_titles.remove(\"Data Feminism\")\n",
    "\n",
    "print(book_titles)"
   ]
  },
  {
   "cell_type": "code",
   "execution_count": null,
   "id": "37dfa358-adb1-4313-bced-cd33fd4dfb67",
   "metadata": {},
   "outputs": [],
   "source": [
    "# Let's add Data feminism back to our list of books. We can add elements to the list with .append() and .insert() methods.\n",
    "\n",
    "# .append() is to use an element to the end of the list.\n",
    "\n",
    "book_titles.append(\"Data Feminism\")\n",
    "\n",
    "print(book_titles)\n",
    "\n",
    "# If we enter new values to a specific place on the list, we use .insert() method. The index number is \"in between\" two list elements, thus 0 at the beginning of the list, 1 is between first and second.\n",
    "\n",
    "book_titles.insert(3, \"The Digital Humanities Coursebook\")\n",
    "\n",
    "print(book_titles)\n"
   ]
  },
  {
   "cell_type": "markdown",
   "id": "091d1dda-965f-4d5c-b408-a0efa176fcd1",
   "metadata": {},
   "source": [
    "### 1.3 String methods\n",
    "\n",
    "The variables have in-built functions that allow to do various operations with the variable. These are called methods (functions that are related to an \"object\"). We call the methods by typing the variable dot method_name. We used list methods already in the list example above: book_titles.append().\n",
    "\n",
    "The most useful for us are string methods and list methods. You can read more about methods in our coursebook, or in Thinking Python chapter 8.8 (strings) or 10.6 (list methods).\n",
    "\n",
    "TIP: In IPython, that the Jupyter Notebook uses, you can get a list of all the methods by typing the variable name and cliking \"tab\" on your keyboard. \"Tab\" can be also used to complete the variable name you are typing.\n",
    "\n",
    "Also, in IPython, we get details about any object by adding question mark after it, e.g. book_titles.append?"
   ]
  },
  {
   "cell_type": "code",
   "execution_count": null,
   "id": "179bb09d-e7b9-440b-afdb-6338ba2dbe29",
   "metadata": {},
   "outputs": [],
   "source": [
    "# We can transform our strings to uppercase or lowercase rather easily by using the .lower and .upper methods:\n",
    "\n",
    "book_name = \"The Digital Humanities Coursebook\"\n",
    "\n",
    "print (book_name.lower())\n",
    "\n",
    "upper = book_name.upper()\n",
    "print(upper)"
   ]
  },
  {
   "cell_type": "code",
   "execution_count": null,
   "id": "23a4dcee-13d3-411b-b65a-632d71365c67",
   "metadata": {
    "tags": []
   },
   "outputs": [],
   "source": [
    "# For more information about any object, just use ?\n",
    "\n",
    "book_name?\n",
    "\n",
    "# or for example:\n",
    "\n",
    "# book_name.upper?\n",
    "\n",
    "# For methods, it might be better to google a bit, so you get also examples how to use the methods in practice."
   ]
  },
  {
   "cell_type": "code",
   "execution_count": null,
   "id": "930b8a44-ccf3-4f96-9db2-59cd42c64d35",
   "metadata": {},
   "outputs": [],
   "source": [
    "# With s.replace(\"a\", \"b\"), we can replace all a with b in our string s.\n",
    "\n",
    "# In this case, all letters \"o\" have been recognized as zeros \"0\" in the OCR process. Let's replace them.\n",
    "\n",
    "sentence = \"Midway up0n the j0urney of 0ur life, I f0und myself within a f0rest dark\"\n",
    "\n",
    "cleaned_sentence = sentence.replace(\"0\", \"o\")\n",
    "\n",
    "print(cleaned_sentence)"
   ]
  },
  {
   "cell_type": "code",
   "execution_count": null,
   "id": "5908f073-3110-41f2-8c87-a52be38c3df9",
   "metadata": {},
   "outputs": [],
   "source": [
    "# Replace is useful for removing characters from a string, by replacing them with nothing, \"\"\n",
    "\n",
    "# We are studying tweets, but we want to remove all question marks and exclamation marks.\n",
    "\n",
    "tweet = \"I think Uppsala is a great city???!!!!???\"\n",
    "\n",
    "tweet = tweet.replace(\"!\", \"\")\n",
    "tweet = tweet.replace(\"?\", \"\")\n",
    "\n",
    "print (tweet)\n",
    "\n",
    "# There are also more efficient ways for cleaning strings for example by using regular expression, and we will come back to these later."
   ]
  },
  {
   "cell_type": "markdown",
   "id": "51ac2257-0943-4164-9653-26583687943f",
   "metadata": {},
   "source": [
    "## 2. Conditional statements and operators\n",
    "\n",
    "Another group of operators are relational or comparison operators: == (is equal?), != (is not equal?), > (is greater than?), < (is less than?), >= (is greater than or equal?), <= (is less than or equal?). The comparisons return truth values: true or false.\n",
    "\n",
    "We can accompany these with the logical operators and, or and not, which are familiar to us e.g. from google searches."
   ]
  },
  {
   "cell_type": "code",
   "execution_count": null,
   "id": "38ba84e4-2e47-440a-bc4d-99fd8e1b1758",
   "metadata": {},
   "outputs": [],
   "source": [
    "result = 5 > 4\n",
    "print (result)\n",
    "\n",
    "print(type(result))\n"
   ]
  },
  {
   "cell_type": "code",
   "execution_count": null,
   "id": "93159064-bdd5-4644-84c6-7ca94ef193ee",
   "metadata": {},
   "outputs": [],
   "source": [
    "# Are the following true or false?\n",
    "\n",
    "print (5 == 5)\n",
    "print (4 < 7)\n",
    "print (8 != 8)\n"
   ]
  },
  {
   "cell_type": "code",
   "execution_count": null,
   "id": "5910f13f-7759-43d1-b453-7f605c53fc28",
   "metadata": {
    "tags": []
   },
   "outputs": [],
   "source": [
    "# Note that = is used for assigned a value to a variable\n",
    "\n",
    "# and == is a relational operator, meaning are the two variables equal or not"
   ]
  },
  {
   "cell_type": "code",
   "execution_count": null,
   "id": "c65eb0b9-a942-4f32-bba1-0e4f6ed5643e",
   "metadata": {},
   "outputs": [],
   "source": [
    "# == and != work with strings\n",
    "\n",
    "book1 = \"Introduction to Digital Humanities\"\n",
    "book2 = \"Cultural Analytics\"\n",
    "\n",
    "print (book1 == book2)        # Here we are asking: does the value of \"book1\" equal to value of \"book2\"?\n"
   ]
  },
  {
   "cell_type": "code",
   "execution_count": null,
   "id": "b184ed39-904c-4d35-af9d-0ec3c914855c",
   "metadata": {},
   "outputs": [],
   "source": [
    "# Strings consist of characters for the computer, and we have to consider cases (\"A\" is different than \"a\")\n",
    "# So the following is false due to case-sensitivity: A is not a! That's where lower() might come useful..\n",
    "\n",
    "print (\"Cultural analytics\" == \"cultural analytics\")\n"
   ]
  },
  {
   "cell_type": "markdown",
   "id": "6bbac7f2-6d89-4389-8d75-96d15f8b7734",
   "metadata": {},
   "source": [
    "One key aspect in programming is to use conditional statements to guide how our program runs. This is done with \"if\", \"else\", and \"elif\".\n",
    "\n",
    "If our \"if\" statement is true, the following code is executed, if it is fales, nothing happens or the program continues with the code in \"else\".\n",
    "\n",
    "\"elif\" can be used to give another if statement if the preceding conditions has not been met.\n",
    "\n",
    "**NOTE!** Here we indent the code block that will be run, if the \"if\" statement is true. The same goes for else."
   ]
  },
  {
   "cell_type": "code",
   "execution_count": null,
   "id": "52d989a7-ab94-40b0-a191-31af1681ff4e",
   "metadata": {},
   "outputs": [],
   "source": [
    "# We have entered 124 books in our corpus, but we want to reach the level of 150 books. Note the indentation!\n",
    "\n",
    "books_amount = 124\n",
    "\n",
    "if books_amount >= 150:\n",
    "    print(\"We have enough books, at least 150!\")\n",
    "else:\n",
    "    print(\"We still need more books to the corpus, get back to work!\")\n",
    "\n",
    "\n",
    "# You can change the value of the variable books_amount to see if we get the other message too.\n",
    "\n",
    "# Remember that the if is followed with boolean condition: books_amount >= 150 returns either True or False. .. If \"True\", do this, else, do that.\n"
   ]
  },
  {
   "cell_type": "code",
   "execution_count": null,
   "id": "d058a866-f4ee-41b1-996d-328334d5684a",
   "metadata": {
    "tags": []
   },
   "outputs": [],
   "source": [
    "# We can add logical operators to form more complex conditions for the if statement.\n",
    "\n",
    "book1 = \"Cultural Analytics\"\n",
    "book2 = \"Cultural Analytics\"\n",
    "\n",
    "if book1 == book2 and books_amount >= 150:\n",
    "    print(\"Both conditions are met!\")\n",
    "else:\n",
    "    print(\"Either book1 == book2 is False, or books_amount >= 150 is false.\")"
   ]
  },
  {
   "cell_type": "markdown",
   "id": "b37faafe-a12b-492b-a7d5-d0604feb2e0e",
   "metadata": {},
   "source": [
    "## 4. For and while loops\n",
    "\n",
    "While and for statements are used to repeat a block of code. \"For\" is used to go through an iterable object like a string, list or \"range\". While is used for repeating the block of code until a condition holds (thus has not been reached). Especially with \"while\" we can create an infinite loop (the condition is never met). We can stop the loop with ctrl-c.\n",
    "\n",
    "Similar to if, we use indentation to define the code blocks that are part of the loops."
   ]
  },
  {
   "cell_type": "code",
   "execution_count": null,
   "id": "12e26eb3-ba13-4291-8c62-f57e46deb2f1",
   "metadata": {},
   "outputs": [],
   "source": [
    "# For statement executes the loop over a sequence, for example range(a, b). It proceeds incrementally.\n",
    "\n",
    "# We have variable \"i\" going incrementally from 0 to 5. Again, 5 means here the \"end of 4\" and the beginning of 5, so we won't go until 5.\n",
    "\n",
    "for i in range(0, 5):\n",
    "    print(f\"For this iteration of the loop the value for i is: {i}\")\n",
    "    if i == 2:\n",
    "        print(\"i is two\")\n",
    "    \n",
    "    "
   ]
  },
  {
   "cell_type": "code",
   "execution_count": null,
   "id": "d8ab4f52-25f6-4726-acab-29f002a075d5",
   "metadata": {},
   "outputs": [],
   "source": [
    "# In this example, we will repeat the while loop until the variable \"count\" has reached 5. The \"count\" starts from 1.\n",
    "\n",
    "# The condition for the while loop is: continue repeating the code of block while \"count\" is less than 5.\n",
    "\n",
    "count = 1\n",
    "\n",
    "print (f\"We start from: {count}\")\n",
    "\n",
    "while count < 5:\n",
    "    print(\"Count is less than 5, so we are in the while loop.\")\n",
    "    count += 1    # is same as: counting = counting + 1\n",
    "    print(f\"We increase count by one. It is now: {count}\")\n",
    "    print(\"Let's go back to the while statement and see if the condition count < 5 is false. If it is true, we stay in the while loop for another iteration.\")\n",
    "\n",
    "    \n",
    "print(f\"Outside the while loop, because count < 5 was false. Counting is now: {count}\")\n",
    "\n"
   ]
  },
  {
   "cell_type": "code",
   "execution_count": null,
   "id": "9347d5c3-b48d-44f0-b3a8-b3400c68fe7b",
   "metadata": {},
   "outputs": [],
   "source": [
    "# For is very useful for iterating through strings (the characters of the string) or lists (all elements in a list).\n",
    "\n",
    "tweet = \"What a wonderful day!\"\n",
    "\n",
    "# For loops the code of block with indentation. At every step, it assigns the characters of the string \"tweet\" in a sequential order to our variable \"char\".\n",
    "\n",
    "for char in tweet:\n",
    "    print(\"The character is: \" + char)\n",
    "    "
   ]
  },
  {
   "cell_type": "code",
   "execution_count": null,
   "id": "5f338fd3-0eb9-42d7-a6fa-57cbebce008b",
   "metadata": {
    "tags": []
   },
   "outputs": [],
   "source": [
    "# We can use the index here to take only a slice of the string.\n",
    "\n",
    "for char in tweet[0:5]:\n",
    "    print(\"the character is: \" + char)\n"
   ]
  },
  {
   "cell_type": "code",
   "execution_count": null,
   "id": "b9cb9091-4dfc-4400-8381-c8febd4a7c7f",
   "metadata": {
    "tags": []
   },
   "outputs": [],
   "source": [
    "# Finally, we can use the for loop also to go through lists like we used it for ranges and strings.\n",
    "\n",
    "book_titles = [\"Introduction to Cultural Analytics & Python\", \"Distant Horizons\", \"Data Feminism\"]\n",
    "\n",
    "# We use for to iterate through our list of book titles. Inside the for loop, we print the length of each string in our list.\n",
    "\n",
    "# At each iteration, the value of the list element is assigned to \"titles\"\n",
    "\n",
    "for title in book_titles:\n",
    "    print(f\"The book title is: {title}\")\n",
    "    print(f\"The length is: {len(title)}\")\n",
    "    print(\"\")\n"
   ]
  },
  {
   "cell_type": "markdown",
   "id": "6b391164-197d-41ad-b03f-a3f8a215e639",
   "metadata": {
    "tags": []
   },
   "source": [
    "### 4. Functions"
   ]
  },
  {
   "cell_type": "markdown",
   "id": "f9751fbe-694a-42c8-99e4-d56a4b14b636",
   "metadata": {
    "tags": []
   },
   "source": [
    "We have used functions already above, for example, print(), type() and len(). We are also able to define functions by ourselves for operations that we repeat often in our programme. We give the function a name and the code that we want to include. The functions are not run by the program, if we do not call them.\n",
    "\n",
    "The functions often take an \"argument\" when they are called: argument is between the parentheses, e.g. len(sentence). Many functions give back a result, which is a return value, for example, the length of variable \"sentence\"."
   ]
  },
  {
   "cell_type": "code",
   "execution_count": null,
   "id": "fa02ca50-d130-4c9b-8ad3-a8bd7f73ede6",
   "metadata": {
    "tags": []
   },
   "outputs": [],
   "source": [
    "# We define a simple function called \"print_text\", which prints text. There is no return value or arguments needed.\n",
    "\n",
    "def print_text():\n",
    "    print(\"Our function prints text\")\n",
    "    print(\"And another line\")\n",
    "    print(\"and one more line\")\n",
    "    print(\"\")\n",
    "    \n",
    "# we can call our function. NB! The code starts from here, the function is just defined but not executed until we call it in the main part\n",
    "# of our code here below.\n",
    "\n",
    "# Uncomment (remove the hashtags) and see how the function is called.\n",
    "\n",
    "# print_text()\n",
    "# print_text()\n",
    "# print_text()\n"
   ]
  },
  {
   "cell_type": "code",
   "execution_count": null,
   "id": "687213e0-2e88-449c-889d-fc4f4fdb7155",
   "metadata": {
    "tags": []
   },
   "outputs": [],
   "source": [
    "# We define our own function, which greets us. The argument given to the function is assigned to variable \"name\".\n",
    "# The variable \"name\" is printed as part of the code in the function.\n",
    "\n",
    "def greet(name):\n",
    "    print(\"Hello \" + name + \"!\")\n",
    "    \n",
    "# now we call the function and give it the parameter \"Your_name\":\n",
    "\n",
    "greet(\"Your_name\")\n",
    "\n",
    "# You can type your name to our greet() function."
   ]
  },
  {
   "cell_type": "code",
   "execution_count": null,
   "id": "f0222d29-5b9e-4864-8a3e-4543a45458fd",
   "metadata": {
    "tags": []
   },
   "outputs": [],
   "source": [
    "# We have a data processing case, where we need to convert strings to lowercase, remove all exclamation marks and add a question mark\n",
    "# to the end.\n",
    "# We think that a function could be useful, as we repeat this in our program several times. In this function we have a return value\n",
    "# in the end.\n",
    "\n",
    "# We first define the function that we name clean_text. The parameters given to the function are in variable \"text\".\n",
    "\n",
    "def clean_text(text):\n",
    "    text = text.lower()             # Here we convert the text variable into lowercase\n",
    "    text = text.replace(\"!\", \"\")    # Here we remove all \"!\", thus replace them with \"\"\n",
    "    return(text)\n",
    "\n",
    "tweet = \"Uppsala is truly a GREAT city!!!\"\n",
    "\n",
    "# We process the tweet with our clean_text function and then print the output.\n",
    "\n",
    "result = clean_text(tweet)\n",
    "\n",
    "print(result)\n",
    "\n",
    "# Note that we assigned the output, that is, what our function returned, to the variable \"result\". Our original string \"tweet\" has not changed. We assigned\n",
    "# it the string \"Uppsala is truly a GREAT city!!!\", and it stays there in the \"tweet\" variable until changed.\n",
    "\n",
    "# print(tweet)\n"
   ]
  },
  {
   "cell_type": "markdown",
   "id": "f31a55fc-2c86-4466-adfd-bd2a79a3377e",
   "metadata": {},
   "source": [
    "### Well done! We are done with some basics of python programming. These areas of basic programming are useful for us when we move to data processing. We will next look at how to read and write files (Material 1b).\n",
    "\n",
    "Please revise these basic in the our main textbook by Walsh. It is recommended that you read especially about one more inbuilt data type called dictionary. Dictionaries are collections of key and value pairs. They are like lists, but the index is not a numerical value but any other data types too like strings. For dictionaries, see https://melaniewalsh.github.io/Intro-Cultural-Analytics/02-Python/11-Dictionaries.html or Think Python chapter 11.\n"
   ]
  },
  {
   "cell_type": "code",
   "execution_count": null,
   "id": "33ef877f-5194-4395-b86f-4e145d52c78f",
   "metadata": {},
   "outputs": [],
   "source": []
  }
 ],
 "metadata": {
  "kernelspec": {
   "display_name": "Python 3 (ipykernel)",
   "language": "python",
   "name": "python3"
  },
  "language_info": {
   "codemirror_mode": {
    "name": "ipython",
    "version": 3
   },
   "file_extension": ".py",
   "mimetype": "text/x-python",
   "name": "python",
   "nbconvert_exporter": "python",
   "pygments_lexer": "ipython3",
   "version": "3.11.4"
  }
 },
 "nbformat": 4,
 "nbformat_minor": 5
}
