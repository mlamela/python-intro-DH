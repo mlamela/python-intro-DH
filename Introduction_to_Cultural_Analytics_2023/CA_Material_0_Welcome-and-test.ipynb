{
 "cells": [
  {
   "cell_type": "markdown",
   "id": "aebd7368",
   "metadata": {
    "tags": []
   },
   "source": [
    "# Welcome to the course \"Introduction to Cultural Analytics\"! (HT-2023)\n",
    "\n",
    "Course coordinator: Matti La Mela, matti.lamela@abm.uu.se\n"
   ]
  },
  {
   "cell_type": "markdown",
   "id": "d9a50b3b",
   "metadata": {
    "tags": []
   },
   "source": [
    "During the course, we will program in Python with Jupyter Notebooks. We also use the notebooks for the Lab assignments and for the final course assignment. The notebooks allow us to do both coding and commenting in a easy-approachable way.\n",
    "\n",
    "## What are Jupyter notebooks?\n",
    "\n",
    "Jupyter notebooks are programming and computing platforms that are run in the web browser. They consist of \"cells\" which can contain either code that can be run in the notebook, or text, that is, \"Markdown\" (like this field), where it possible to type in instructions, comments, or add images. The notebooks are then easily shared with others to study.\n",
    "\n",
    "For this course, we use a locally installed version of the Jupyter Notebook Lab (through Anaconda), which allows to create and open notebooks. Another tool for working with notebooks is Google Colaboratory, which is part of the Google cloud services (drive, document etc.)\n",
    "\n",
    "We will do our Lab assignments in Jupyter Notebook. The \"code cells\" contain Python code that we will learn during the course. The \"Markdown cells\" containt text that can be formatted (headings, bold, italics) using the Markdown language. You can have a look at the basic formatting instructions here: https://www.markdownguide.org/cheat-sheet/.\n",
    "\n",
    "\n",
    "## Test that you have the python packages/libraries installed:\n",
    "\n",
    "As you run the exercises locally, this first notebook is used to test that you have all the packages used during this course (and some optional) installed to your Jupyter notebook environment. Please go through the installation instructions that you have received previously. The packages/libraries contain ready-made code that we can use instead of writing all the code by ourselves.\n",
    "\n",
    "Run the steps by clicking SHIFT + enter: this runs the current active cell and moves to the next cell in the notebook. You can also use the \"play\" arrow symbol, select Run All Cells from the menu, or press CTRL+enter (execute the currently active cell). When the code line is completed, you get a number between the brackets on the left side of the code line. The number signals the order in which you have run the cells.\n",
    "\n",
    "If you get an error e.g. \"ModuleNotFoundError\", then go back to the installation instructions. We can discuss any problems you might have after Lecture 1.\n",
    "\n",
    "If you get no errors you are ready to start with the first material then at Lab 1! Well done!"
   ]
  },
  {
   "cell_type": "code",
   "execution_count": 1,
   "id": "38743de8",
   "metadata": {
    "tags": []
   },
   "outputs": [],
   "source": [
    "import spacy"
   ]
  },
  {
   "cell_type": "code",
   "execution_count": null,
   "id": "3d43553b-f415-4bea-a6b6-7bd1227fc0d5",
   "metadata": {
    "tags": []
   },
   "outputs": [],
   "source": [
    "nlp = spacy.load(\"en_core_web_sm\")"
   ]
  },
  {
   "cell_type": "code",
   "execution_count": null,
   "id": "2d7ed188",
   "metadata": {
    "tags": []
   },
   "outputs": [],
   "source": [
    "nlp = spacy.load(\"sv_core_news_md\")"
   ]
  },
  {
   "cell_type": "code",
   "execution_count": null,
   "id": "a115315b-4405-4b04-b5af-525ed801ea01",
   "metadata": {
    "tags": []
   },
   "outputs": [],
   "source": [
    "from bs4 import BeautifulSoup"
   ]
  },
  {
   "cell_type": "code",
   "execution_count": null,
   "id": "04025445",
   "metadata": {
    "tags": []
   },
   "outputs": [],
   "source": [
    "import numpy"
   ]
  },
  {
   "cell_type": "markdown",
   "id": "7d153b5b-ffe3-4276-be03-2f2971c9d07b",
   "metadata": {},
   "source": []
  },
  {
   "cell_type": "code",
   "execution_count": 2,
   "id": "1e5aa50b",
   "metadata": {
    "tags": []
   },
   "outputs": [],
   "source": [
    "import pandas"
   ]
  },
  {
   "cell_type": "code",
   "execution_count": null,
   "id": "01e6ffd9-723e-4b9d-b5c0-a05b2fe2044d",
   "metadata": {
    "tags": []
   },
   "outputs": [],
   "source": [
    "import nltk"
   ]
  },
  {
   "cell_type": "code",
   "execution_count": null,
   "id": "ad261353-4154-43e4-804b-79002df743a4",
   "metadata": {
    "tags": []
   },
   "outputs": [],
   "source": [
    "print (\"All clear and no errors? Let's continue at Lab 1!\")"
   ]
  },
  {
   "cell_type": "markdown",
   "id": "cf3a295d-a864-4569-b0fa-40f3f1d249be",
   "metadata": {},
   "source": [
    "## About the packages:\n",
    "\n",
    "-spaCy is a free, open-source library for advanced Natural Language Processing (NLP) in Python.\n",
    "\n",
    "-en_core_web_sm is one of the English language models in spaCy (for larger models and models in other languages, see: https://spacy.io/usage/models)\n",
    "\n",
    "-sv_core_news_md is one of the Swedish language models in spaCy (for larger models and models in other languages, see: https://spacy.io/usage/models)\n",
    "\n",
    "-bs4: BeautifulSoup is used for scraping information from webpages\n",
    "\n",
    "-NumPy is a common library for scientific computing in Python.\n",
    "\n",
    "-pandas is a library for data analysis tools and enabling use of data structures\n",
    "\n",
    "-nltk: Natural Language Processing Toolkit, a very commonly used Natural Language Processing library with a great course book: https://www.nltk.org/book/\n"
   ]
  },
  {
   "cell_type": "code",
   "execution_count": null,
   "id": "d8e8925e-8345-4852-87b2-0d14674593b2",
   "metadata": {},
   "outputs": [],
   "source": []
  }
 ],
 "metadata": {
  "kernelspec": {
   "display_name": "Python 3 (ipykernel)",
   "language": "python",
   "name": "python3"
  },
  "language_info": {
   "codemirror_mode": {
    "name": "ipython",
    "version": 3
   },
   "file_extension": ".py",
   "mimetype": "text/x-python",
   "name": "python",
   "nbconvert_exporter": "python",
   "pygments_lexer": "ipython3",
   "version": "3.11.4"
  }
 },
 "nbformat": 4,
 "nbformat_minor": 5
}
